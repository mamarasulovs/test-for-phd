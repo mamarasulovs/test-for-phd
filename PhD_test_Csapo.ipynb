{
  "nbformat": 4,
  "nbformat_minor": 0,
  "metadata": {
    "colab": {
      "name": "PhD-test_Csapo.ipynb",
      "provenance": [],
      "collapsed_sections": []
    },
    "kernelspec": {
      "name": "python3",
      "display_name": "Python 3"
    }
  },
  "cells": [
    {
      "cell_type": "markdown",
      "metadata": {
        "id": "uBZjW_VrL5gT",
        "colab_type": "text"
      },
      "source": [
        "Welcome to this Project Laboratory test! This is a Jupyter notebook, where we have access to a Linux computer. \n",
        "If you write a command to a code cell starting with \"!\", it will be executed, after pressing Shift+Enter on the cell."
      ]
    },
    {
      "cell_type": "code",
      "metadata": {
        "id": "ZomCA2_WMI4f",
        "colab_type": "code",
        "outputId": "c60d4e7f-07bb-4502-9f3f-aae36311c7ff",
        "colab": {
          "base_uri": "https://localhost:8080/",
          "height": 102
        }
      },
      "source": [
        "# list files in current directory\n",
        "!ls -al"
      ],
      "execution_count": 0,
      "outputs": [
        {
          "output_type": "stream",
          "text": [
            "total 16\n",
            "drwxr-xr-x 1 root root 4096 Feb  5 18:37 .\n",
            "drwxr-xr-x 1 root root 4096 Feb  7 14:43 ..\n",
            "drwxr-xr-x 1 root root 4096 Feb  5 18:37 .config\n",
            "drwxr-xr-x 1 root root 4096 Feb  5 18:37 sample_data\n"
          ],
          "name": "stdout"
        }
      ]
    },
    {
      "cell_type": "markdown",
      "metadata": {
        "id": "vx2koqi1MOU4",
        "colab_type": "text"
      },
      "source": [
        " otherwise, this is a fully working Python3 environment. you can write your own commands, and execute them."
      ]
    },
    {
      "cell_type": "code",
      "metadata": {
        "id": "ayMAqJGsKQAN",
        "colab_type": "code",
        "outputId": "b15bc60b-fb95-4a39-9925-0a40edf1acd5",
        "colab": {
          "base_uri": "https://localhost:8080/",
          "height": 351
        }
      },
      "source": [
        "# example for doing some simple plot\n",
        "import numpy as np\n",
        "import matplotlib.pyplot as plt\n",
        "\n",
        "t = np.arange(0, 10, 0.001)\n",
        "fig = plt.figure(figsize=(10,5))\n",
        "plt.plot(np.sin(t) + np.cos(3*t), color='r')\n",
        "plt.plot(0.01*t*t, color='g')\n",
        "plt.xlabel('Time (s)')\n",
        "plt.ylabel('Amplitude')"
      ],
      "execution_count": 0,
      "outputs": [
        {
          "output_type": "execute_result",
          "data": {
            "text/plain": [
              "Text(0, 0.5, 'Amplitude')"
            ]
          },
          "metadata": {
            "tags": []
          },
          "execution_count": 10
        },
        {
          "output_type": "display_data",
          "data": {
            "image/png": "[encoded data removed]",
            "text/plain": [
              "<Figure size 720x360 with 1 Axes>"
            ]
          },
          "metadata": {
            "tags": []
          }
        }
      ]
    },
    {
      "cell_type": "code",
      "metadata": {
        "id": "Cjj0Dx6ULOcQ",
        "colab_type": "code",
        "colab": {}
      },
      "source": [
        ""
      ],
      "execution_count": 0,
      "outputs": []
    },
    {
      "cell_type": "markdown",
      "metadata": {
        "id": "CPvuCJ7JMYVm",
        "colab_type": "text"
      },
      "source": [
        "now it is your turn: try to solve any of the tasks below (as many as you like  - note that some of them are relatively easy, while others can seem to be a bit difficult, but none of them requires a PhD :)\n"
      ]
    },
    {
      "cell_type": "markdown",
      "metadata": {
        "id": "FQqr2E7qMoms",
        "colab_type": "text"
      },
      "source": [
        "Task 1.a: Download any arbitrary 128x128px image, display it and print the RGB channels of the image as numbers."
      ]
    },
    {
      "cell_type": "code",
      "metadata": {
        "id": "v-igWc62M-RL",
        "colab_type": "code",
        "colab": {}
      },
      "source": [
        "# your solution"
      ],
      "execution_count": 0,
      "outputs": []
    },
    {
      "cell_type": "markdown",
      "metadata": {
        "id": "ud4icvS_NBEr",
        "colab_type": "text"
      },
      "source": [
        "Task 1.b: Calculate the mean and variance of the pictures by channels and convert them to 0 mean and 1 variance."
      ]
    },
    {
      "cell_type": "code",
      "metadata": {
        "id": "RsLL8aGQNIty",
        "colab_type": "code",
        "colab": {}
      },
      "source": [
        "# your solution"
      ],
      "execution_count": 0,
      "outputs": []
    },
    {
      "cell_type": "markdown",
      "metadata": {
        "id": "08rR-qDhNKii",
        "colab_type": "text"
      },
      "source": [
        "Task 2.a: Read an arbitrary WAV file (speech/music) and plot its waveform, as a function of time."
      ]
    },
    {
      "cell_type": "code",
      "metadata": {
        "id": "m_qqtF41NaLB",
        "colab_type": "code",
        "colab": {}
      },
      "source": [
        "# your solution"
      ],
      "execution_count": 0,
      "outputs": []
    },
    {
      "cell_type": "markdown",
      "metadata": {
        "id": "81OV-M3PNb-B",
        "colab_type": "text"
      },
      "source": [
        "Task 2.b: Plot the spectrogram of the previous WAV file."
      ]
    },
    {
      "cell_type": "code",
      "metadata": {
        "id": "LVf5H_bwNbEw",
        "colab_type": "code",
        "colab": {}
      },
      "source": [
        "# your solution"
      ],
      "execution_count": 0,
      "outputs": []
    },
    {
      "cell_type": "markdown",
      "metadata": {
        "id": "Apd9pbpwNtEw",
        "colab_type": "text"
      },
      "source": [
        "Task 3.a: Download a sample AVI video of the vocal tract (recorded with 2D rtMRI), load it into a Python array, and plot every 20th frame."
      ]
    },
    {
      "cell_type": "code",
      "metadata": {
        "id": "8XVuumcAN5i4",
        "colab_type": "code",
        "colab": {}
      },
      "source": [
        "!wget http://smartlab.tmit.bme.hu/csapo/ultrasound/usctimit_mri_f1_146_150.avi\n",
        "!ls -al"
      ],
      "execution_count": 0,
      "outputs": []
    },
    {
      "cell_type": "code",
      "metadata": {
        "id": "cNkHyEb5PIm1",
        "colab_type": "code",
        "colab": {}
      },
      "source": [
        "# your solution"
      ],
      "execution_count": 0,
      "outputs": []
    },
    {
      "cell_type": "markdown",
      "metadata": {
        "id": "_zsmHNytPQpy",
        "colab_type": "text"
      },
      "source": [
        "Task 3.b: calculate and show that region in the MRI video, where there is larger movement than in other parts\n",
        "\n",
        "Some help:\n",
        "*   calculate the standard deviation across time\n",
        "*   try to use colors for visualization\n",
        "\n",
        "\n"
      ]
    },
    {
      "cell_type": "code",
      "metadata": {
        "id": "J1NrBsjzP3Kv",
        "colab_type": "code",
        "colab": {}
      },
      "source": [
        "# your solution"
      ],
      "execution_count": 0,
      "outputs": []
    },
    {
      "cell_type": "markdown",
      "metadata": {
        "id": "dSfd2w75P99t",
        "colab_type": "text"
      },
      "source": [
        "Task 4.a: Download a sample ultrasound tongue image sequence, where data is stored as raw scanlines. Load it into a Python array, and plot every 100th frame.\n",
        "\n",
        "Some help:\n",
        "\n",
        "\n",
        "\n",
        "*   the .ULT file contains raw ultrasound images after each other\n",
        "*   each pixel is stored as a 1 byte unsigned int, which is actually a grayscale pixel intensity\n",
        "*   size of the raw ultrasound images is 64 x 842 pixels\n",
        "*   there are ??? number of images after each other - basically an uncompressed video\n",
        "\n"
      ]
    },
    {
      "cell_type": "code",
      "metadata": {
        "id": "NP5jowEQP5X_",
        "colab_type": "code",
        "colab": {}
      },
      "source": [
        "!wget http://smartlab.tmit.bme.hu/csapo/ultrasound/sample_female1_002.ult\n",
        "!ls -al"
      ],
      "execution_count": 0,
      "outputs": []
    },
    {
      "cell_type": "code",
      "metadata": {
        "id": "6liJeaVFQaPI",
        "colab_type": "code",
        "colab": {}
      },
      "source": [
        "# your solution"
      ],
      "execution_count": 0,
      "outputs": []
    },
    {
      "cell_type": "markdown",
      "metadata": {
        "id": "lztXwso-Qe-U",
        "colab_type": "text"
      },
      "source": [
        "Task 4.b: On the above tongue ultrasound video, calculate the RMS difference across the consecutive frames and plot this as a function of time."
      ]
    },
    {
      "cell_type": "code",
      "metadata": {
        "id": "xTyMBiprTZlP",
        "colab_type": "code",
        "colab": {}
      },
      "source": [
        "# your solution"
      ],
      "execution_count": 0,
      "outputs": []
    },
    {
      "cell_type": "markdown",
      "metadata": {
        "id": "FefA2qhtTY8S",
        "colab_type": "text"
      },
      "source": [
        "Task 5.a: Train a deep neural network (any kind: fully connected / convolutional / recurrent / GAN / etc.) to classify the MNIST written digits.\n",
        "\n",
        "You can use any framework that you like (e.g. tensorflow, keras, pytorch)."
      ]
    },
    {
      "cell_type": "code",
      "metadata": {
        "id": "jhz3Nfw5Tw8P",
        "colab_type": "code",
        "colab": {}
      },
      "source": [
        "# your solution"
      ],
      "execution_count": 0,
      "outputs": []
    },
    {
      "cell_type": "markdown",
      "metadata": {
        "id": "-oji3-FjTzL_",
        "colab_type": "text"
      },
      "source": [
        "Task 5.b: Write with your own hand several digits on a paper, take a photo, put it here, and try to use the above neural network to predict which image is shown there."
      ]
    },
    {
      "cell_type": "code",
      "metadata": {
        "id": "GqnsE2A4UFj9",
        "colab_type": "code",
        "colab": {}
      },
      "source": [
        "# your solution"
      ],
      "execution_count": 0,
      "outputs": []
    },
    {
      "cell_type": "markdown",
      "metadata": {
        "id": "9pi_e0bBVNkQ",
        "colab_type": "text"
      },
      "source": [
        "If you are done, please send me back the shared link to your solutions in a similar Jupyter notebook format."
      ]
    }
  ]
}